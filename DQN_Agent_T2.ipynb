{
  "nbformat": 4,
  "nbformat_minor": 0,
  "metadata": {
    "kernelspec": {
      "display_name": "Python 3",
      "language": "python",
      "name": "python3"
    },
    "language_info": {
      "codemirror_mode": {
        "name": "ipython",
        "version": 3
      },
      "file_extension": ".py",
      "mimetype": "text/x-python",
      "name": "python",
      "nbconvert_exporter": "python",
      "pygments_lexer": "ipython3",
      "version": "3.6.5"
    },
    "colab": {
      "name": "DQN_Agent_T2.ipynb",
      "provenance": [],
      "collapsed_sections": [],
      "toc_visible": true,
      "include_colab_link": true
    }
  },
  "cells": [
    {
      "cell_type": "markdown",
      "metadata": {
        "id": "view-in-github",
        "colab_type": "text"
      },
      "source": [
        "<a href=\"https://colab.research.google.com/github/HemantTiwariGitHub/RLCabs/blob/main/DQN_Agent_T2.ipynb\" target=\"_parent\"><img src=\"https://colab.research.google.com/assets/colab-badge.svg\" alt=\"Open In Colab\"/></a>"
      ]
    },
    {
      "cell_type": "markdown",
      "metadata": {
        "id": "CseJVoBt8jWJ"
      },
      "source": [
        "### Cab-Driver Agent"
      ]
    },
    {
      "cell_type": "code",
      "metadata": {
        "id": "pt-nxS9L8jWK"
      },
      "source": [
        "# Importing libraries\n",
        "import numpy as np\n",
        "import random\n",
        "import math\n",
        "from collections import deque\n",
        "import collections\n",
        "import pickle\n",
        "import time \n",
        "\n",
        "# for building DQN model\n",
        "from keras import layers\n",
        "from keras import Sequential\n",
        "from keras.layers import Dense, Activation, Flatten\n",
        "from keras.optimizers import Adam\n",
        "\n",
        "# for plotting graphs\n",
        "import matplotlib.pyplot as plt\n",
        "\n",
        "# Import the environment\n",
        "from Env import CabDriver"
      ],
      "execution_count": 1,
      "outputs": []
    },
    {
      "cell_type": "markdown",
      "metadata": {
        "id": "vPZChKPx8jWO"
      },
      "source": [
        "#### Defining Time Matrix"
      ]
    },
    {
      "cell_type": "code",
      "metadata": {
        "id": "fppApKKo8jWP"
      },
      "source": [
        "# Loading the time matrix provided\n",
        "Time_matrix = np.load(\"TM.npy\")"
      ],
      "execution_count": 2,
      "outputs": []
    },
    {
      "cell_type": "code",
      "metadata": {
        "id": "2DBeLhG48jWc"
      },
      "source": [
        "#Defining a function to save the Q-dictionary as a pickle file\n",
        "def save_obj(obj, name ):\n",
        "    with open(name + '.pkl', 'wb') as f:\n",
        "        pickle.dump(obj, f, pickle.HIGHEST_PROTOCOL)"
      ],
      "execution_count": 3,
      "outputs": []
    },
    {
      "cell_type": "markdown",
      "metadata": {
        "id": "EjaZhYb28jWe"
      },
      "source": [
        "### Agent Class\n",
        "\n",
        "If you are using this framework, you need to fill the following to complete the following code block:\n",
        "1. State and Action Size\n",
        "2. Hyperparameters\n",
        "3. Create a neural-network model in function 'build_model()'\n",
        "4. Define epsilon-greedy strategy in function 'get_action()'\n",
        "5. Complete the function 'append_sample()'. This function appends the recent experience tuple <state, action, reward, new-state> to the memory\n",
        "6. Complete the 'train_model()' function with following logic:\n",
        "   - If the memory size is greater than mini-batch size, you randomly sample experiences from memory as per the mini-batch size and do the following:\n",
        "      - Initialise your input and output batch for training the model\n",
        "      - Calculate the target Q value for each sample: reward + gamma*max(Q(s'a,))\n",
        "      - Get Q(s', a) values from the last trained model\n",
        "      - Update the input batch as your encoded state and output batch as your Q-values\n",
        "      - Then fit your DQN model using the updated input and output batch."
      ]
    },
    {
      "cell_type": "code",
      "metadata": {
        "id": "TuqIwf-O8jWf"
      },
      "source": [
        "class DQNAgent:\n",
        "    def __init__(self, state_size, action_size):\n",
        "        # Define size of state and action\n",
        "        self.state_size = state_size\n",
        "        self.action_size = action_size\n",
        "\n",
        "        # Write here: Specify you hyper parameters for the DQN\n",
        "        self.discount_factor = 0.95\n",
        "        self.learning_rate = 0.01       \n",
        "        self.epsilon = 1\n",
        "        self.epsilon_max = 1\n",
        "        self.epsilon_decay = 0.99\n",
        "        self.epsilon_min = 0.01\n",
        "        \n",
        "        self.batch_size = 32        \n",
        "        # create replay memory using deque\n",
        "        self.memory = deque(maxlen=2000)\n",
        "   \n",
        "        self.states_tracked = []\n",
        "        self.track_state = np.array(env.state_encod_arch1([1,2,1])).reshape(1, self.state_size)\n",
        "        \n",
        "        # create main model and target model\n",
        "        self.model = self.build_model()\n",
        "\n",
        "    # approximate Q function using Neural Network\n",
        "    def build_model(self):\n",
        "        model = Sequential()\n",
        "        # Write your code here: Add layers to your neural nets   \n",
        "        model.add(Dense(32, input_dim=self.state_size, activation='relu', kernel_initializer='he_uniform'))\n",
        "        model.add(Dense(32, activation='relu', kernel_initializer='he_uniform'))\n",
        "\n",
        "        # the output layer: output is of size num_actions\n",
        "        model.add(Dense(self.action_size, activation='relu', kernel_initializer='he_uniform'))\n",
        "\n",
        "        model.compile(loss='mse',optimizer=Adam(lr=self.learning_rate))\n",
        "        model.summary\n",
        "        return model\n",
        "\n",
        "\n",
        "\n",
        "    def get_action(self, state, possible_actions_index, actions):\n",
        "        if np.random.rand() <= self.epsilon:\n",
        "            # explore: choose a random action from all possible actions\n",
        "            randAction = random.choice(possible_actions_index)\n",
        "            return randAction\n",
        "        else:\n",
        "            # choose the action with the highest q(s, a)\n",
        "            # the first index corresponds to the batch size, so\n",
        "            # reshape state to (1, state_size) so that the first index corresponds to the batch size\n",
        "            state = state.reshape(1, self.state_size)\n",
        "            q_value = self.model.predict(state)\n",
        "            possibleValues = [q_value[0][i] for i in possible_actions_index]\n",
        "            return possible_actions_index[np.argmax(possibleValues)]\n",
        "\n",
        "          \n",
        "         \n",
        "   \n",
        "\n",
        "    def append_sample(self, state, action, reward, next_state,done):\n",
        "    # Write your code here:\n",
        "    # save sample <s,a,r,s'> to the replay memory\n",
        "      self.memory.append((state, action, reward, next_state, done))\n",
        "    \n",
        "    \n",
        "    # pick samples randomly from replay memory (with batch_size) and train the network\n",
        "    def train_model(self):\n",
        "        \n",
        "        if len(self.memory) > self.batch_size:\n",
        "            \n",
        "            # sample minibatch from memory\n",
        "            minibatch = random.sample(self.memory, self.batch_size)\n",
        "\n",
        "            # initialise two matrices - update_input and update_output\n",
        "            update_input = np.zeros((self.batch_size, self.state_size))\n",
        "            update_output = np.zeros((self.batch_size, self.state_size))\n",
        "            actions, rewards, done = [], [], []\n",
        "\n",
        "            # populate update_input and update_output and the lists rewards, actions, done\n",
        "            for i in range(self.batch_size):\n",
        "                state, action, reward, next_state, done_boolean = minibatch[i]\n",
        "                update_input[i] = state\n",
        "                actions.append(action)\n",
        "                rewards.append(reward)\n",
        "                update_output[i] = next_state\n",
        "                done.append(done_boolean)\n",
        "\n",
        "            # predict the target q-values from states s\n",
        "            target = self.model.predict(update_input)\n",
        "\n",
        "            # target for q-network\n",
        "            target_qval = self.model.predict(update_output)\n",
        "\n",
        "            # update the target values\n",
        "            for i in range(self.batch_size):\n",
        "                if done[i]:\n",
        "                    target[i][actions[i]] = rewards[i]\n",
        "                else: # non-terminal state\n",
        "                    target[i][actions[i]] = rewards[i] + self.discount_factor * np.max(target_qval[i])\n",
        "\n",
        "            # model fit\n",
        "            self.model.fit(update_input, target, batch_size=self.batch_size, epochs=1, verbose=0)\n",
        "\n",
        "\n",
        "    def save(self, name):\n",
        "        self.model.save(name)"
      ],
      "execution_count": 4,
      "outputs": []
    },
    {
      "cell_type": "code",
      "metadata": {
        "id": "H0GAuc0j8jWj"
      },
      "source": [
        "episodeTime = 24*30 \n",
        "Episodes = 15000\n",
        "\n",
        "env = CabDriver()\n",
        "action_space, state_space, state = env.reset()\n",
        "\n",
        "state_size = 36\n",
        "action_size = len(action_space)\n",
        "\n",
        "\n",
        "agent = DQNAgent(state_size=state_size,action_size=action_size)\n",
        "\n",
        "\n",
        "rewards_per_episode, episodes = [], []"
      ],
      "execution_count": 5,
      "outputs": []
    },
    {
      "cell_type": "markdown",
      "metadata": {
        "id": "ZNE467Wi8jWm"
      },
      "source": [
        "### DQN block"
      ]
    },
    {
      "cell_type": "code",
      "metadata": {
        "id": "SPsqSz7W8jWm",
        "outputId": "e8bdd9a1-52a7-480c-bdf3-6666b9a2d1de",
        "colab": {
          "base_uri": "https://localhost:8080/",
          "height": 589
        }
      },
      "source": [
        "startTime = time.time()\n",
        "scoreTracked = []\n",
        "#### simulation starts ####\n",
        "for episode in range(Episodes):\n",
        "\n",
        "    done = False\n",
        "    score = 0\n",
        "\n",
        "    # reset at the start of each episode\n",
        "    env = CabDriver()\n",
        "    action_space, state_space, state = env.reset()\n",
        "    \n",
        "    currentEpisodeTime=0\n",
        "    maxEpisodeTime = episodeTime \n",
        "\n",
        "    while not done:\n",
        "        # get action for the current state and take a step in the environment\n",
        "        possible_actions_index, actions = env.requests(state)\n",
        "      \n",
        "        print(state)\n",
        "        print(actions)\n",
        "        print(possible_actions_index)\n",
        "        \n",
        "\n",
        "        action = agent.get_action(state, possible_actions_index, actions)\n",
        "\n",
        "        print(action)\n",
        "\n",
        "\n",
        "        next_state, reward, timePassed = env.next_state_func(state, env.action_space[action], Time_matrix)\n",
        "        currentEpisodeTime = currentEpisodeTime + timePassed\n",
        "\n",
        "        if (currentEpisodeTime > maxEpisodeTime):\n",
        "          done = True\n",
        "  \n",
        "        # save the sample <s, a, r, s', done> to the replay memory\n",
        "        agent.append_sample(state, action, reward, next_state, done)\n",
        "      \n",
        "\n",
        "        # train after each step\n",
        "        agent.train_model()\n",
        "\n",
        "        # add reward to the total score of this episode\n",
        "        score += reward\n",
        "\n",
        " \n",
        "        #print(i,\": \" , state , \" :  \" , action , \" :  \" , reward , \" : \" , next_state , \" : \" , done, \" : \" , score)\n",
        "\n",
        "        state = next_state\n",
        "\n",
        "\n",
        "    # store total reward obtained in this episode\n",
        "    rewards_per_episode.append(score)\n",
        "    episodes.append(episode)\n",
        "\n",
        "    # epsilon decay\n",
        "    if agent.epsilon > agent.epsilon_min:\n",
        "          agent.epsilon = epsilon_min + (epsilon_max - epsilon_min) * np.exp(-0.0005 * episode)\n",
        "\n",
        "    # every episode:\n",
        "    print(\"episode {0}, reward {1}, memory_length {2}, epsilon {3}\".format(episode,\n",
        "                                                                         score,\n",
        "                                                                         len(agent.memory),\n",
        "                                                                         agent.epsilon))\n",
        "    # every few episodes:\n",
        "    if episode % 500 == 0:\n",
        "        # store q-values of some prespecified state-action pairs\n",
        "        # q_dict = agent.store_q_values()\n",
        "\n",
        "        # save model weights\n",
        "        agent.save_model_weights(name=\"model_weights.h5\")\n",
        "\n",
        "#### simulation complete ####\n",
        "        "
      ],
      "execution_count": 6,
      "outputs": [
        {
          "output_type": "stream",
          "text": [
            "(0, 6, 9)\n",
            "[(0, 3), [0, 0]]\n",
            "[2]\n",
            "2\n"
          ],
          "name": "stdout"
        },
        {
          "output_type": "error",
          "ename": "IndexError",
          "evalue": "ignored",
          "traceback": [
            "\u001b[0;31m---------------------------------------------------------------------------\u001b[0m",
            "\u001b[0;31mIndexError\u001b[0m                                Traceback (most recent call last)",
            "\u001b[0;32m<ipython-input-6-a3fe7e256526>\u001b[0m in \u001b[0;36m<module>\u001b[0;34m()\u001b[0m\n\u001b[1;32m     28\u001b[0m \u001b[0;34m\u001b[0m\u001b[0m\n\u001b[1;32m     29\u001b[0m \u001b[0;34m\u001b[0m\u001b[0m\n\u001b[0;32m---> 30\u001b[0;31m         \u001b[0mnext_state\u001b[0m\u001b[0;34m,\u001b[0m \u001b[0mreward\u001b[0m\u001b[0;34m,\u001b[0m \u001b[0mtimePassed\u001b[0m \u001b[0;34m=\u001b[0m \u001b[0menv\u001b[0m\u001b[0;34m.\u001b[0m\u001b[0mnext_state_func\u001b[0m\u001b[0;34m(\u001b[0m\u001b[0mstate\u001b[0m\u001b[0;34m,\u001b[0m \u001b[0menv\u001b[0m\u001b[0;34m.\u001b[0m\u001b[0maction_space\u001b[0m\u001b[0;34m[\u001b[0m\u001b[0maction\u001b[0m\u001b[0;34m]\u001b[0m\u001b[0;34m,\u001b[0m \u001b[0mTime_matrix\u001b[0m\u001b[0;34m)\u001b[0m\u001b[0;34m\u001b[0m\u001b[0;34m\u001b[0m\u001b[0m\n\u001b[0m\u001b[1;32m     31\u001b[0m         \u001b[0mcurrentEpisodeTime\u001b[0m \u001b[0;34m=\u001b[0m \u001b[0mcurrentEpisodeTime\u001b[0m \u001b[0;34m+\u001b[0m \u001b[0mtimePassed\u001b[0m\u001b[0;34m\u001b[0m\u001b[0;34m\u001b[0m\u001b[0m\n\u001b[1;32m     32\u001b[0m \u001b[0;34m\u001b[0m\u001b[0m\n",
            "\u001b[0;32m/content/Env.py\u001b[0m in \u001b[0;36mnext_state_func\u001b[0;34m(self, state, action, Time_matrix)\u001b[0m\n\u001b[1;32m    124\u001b[0m         \u001b[0mtargetLocation\u001b[0m \u001b[0;34m=\u001b[0m \u001b[0maction\u001b[0m\u001b[0;34m[\u001b[0m\u001b[0;36m1\u001b[0m\u001b[0;34m]\u001b[0m\u001b[0;34m\u001b[0m\u001b[0;34m\u001b[0m\u001b[0m\n\u001b[1;32m    125\u001b[0m \u001b[0;34m\u001b[0m\u001b[0m\n\u001b[0;32m--> 126\u001b[0;31m         \u001b[0mreward\u001b[0m \u001b[0;34m=\u001b[0m \u001b[0mself\u001b[0m\u001b[0;34m.\u001b[0m\u001b[0mreward_func\u001b[0m\u001b[0;34m(\u001b[0m\u001b[0mstate\u001b[0m\u001b[0;34m,\u001b[0m \u001b[0maction\u001b[0m\u001b[0;34m,\u001b[0m \u001b[0mTime_matrix\u001b[0m\u001b[0;34m)\u001b[0m\u001b[0;34m\u001b[0m\u001b[0;34m\u001b[0m\u001b[0m\n\u001b[0m\u001b[1;32m    127\u001b[0m \u001b[0;34m\u001b[0m\u001b[0m\n\u001b[1;32m    128\u001b[0m         \u001b[0mnoRide\u001b[0m \u001b[0;34m=\u001b[0m \u001b[0;32mFalse\u001b[0m\u001b[0;34m\u001b[0m\u001b[0;34m\u001b[0m\u001b[0m\n",
            "\u001b[0;32m/content/Env.py\u001b[0m in \u001b[0;36mreward_func\u001b[0;34m(self, state, action, Time_matrix)\u001b[0m\n\u001b[1;32m    105\u001b[0m             \u001b[0mtimeToSource\u001b[0m \u001b[0;34m=\u001b[0m \u001b[0mTime_matrix\u001b[0m\u001b[0;34m[\u001b[0m\u001b[0mcabLocation\u001b[0m\u001b[0;34m]\u001b[0m\u001b[0;34m[\u001b[0m\u001b[0msourceLocation\u001b[0m\u001b[0;34m]\u001b[0m\u001b[0;34m[\u001b[0m\u001b[0mhour\u001b[0m\u001b[0;34m]\u001b[0m\u001b[0;34m[\u001b[0m\u001b[0mday\u001b[0m\u001b[0;34m]\u001b[0m\u001b[0;34m\u001b[0m\u001b[0;34m\u001b[0m\u001b[0m\n\u001b[1;32m    106\u001b[0m             \u001b[0mnewDay\u001b[0m\u001b[0;34m,\u001b[0m \u001b[0mnewHour\u001b[0m \u001b[0;34m=\u001b[0m \u001b[0mself\u001b[0m\u001b[0;34m.\u001b[0m\u001b[0mgetNextTime\u001b[0m\u001b[0;34m(\u001b[0m\u001b[0mday\u001b[0m\u001b[0;34m,\u001b[0m \u001b[0mhour\u001b[0m\u001b[0;34m,\u001b[0m \u001b[0mtimeToSource\u001b[0m\u001b[0;34m)\u001b[0m\u001b[0;34m\u001b[0m\u001b[0;34m\u001b[0m\u001b[0m\n\u001b[0;32m--> 107\u001b[0;31m             \u001b[0mtimeOfRide\u001b[0m \u001b[0;34m=\u001b[0m \u001b[0mTime_matrix\u001b[0m\u001b[0;34m[\u001b[0m\u001b[0msourceLocation\u001b[0m\u001b[0;34m]\u001b[0m\u001b[0;34m[\u001b[0m\u001b[0mtargetLocation\u001b[0m\u001b[0;34m]\u001b[0m\u001b[0;34m[\u001b[0m\u001b[0mnewHour\u001b[0m\u001b[0;34m]\u001b[0m\u001b[0;34m[\u001b[0m\u001b[0mnewDay\u001b[0m\u001b[0;34m]\u001b[0m\u001b[0;34m\u001b[0m\u001b[0;34m\u001b[0m\u001b[0m\n\u001b[0m\u001b[1;32m    108\u001b[0m             \u001b[0mreward\u001b[0m   \u001b[0;34m=\u001b[0m \u001b[0;34m(\u001b[0m\u001b[0mR\u001b[0m \u001b[0;34m*\u001b[0m \u001b[0mtimeOfRide\u001b[0m\u001b[0;34m)\u001b[0m \u001b[0;34m-\u001b[0m\u001b[0mC\u001b[0m \u001b[0;34m(\u001b[0m\u001b[0mtimeOfRide\u001b[0m \u001b[0;34m+\u001b[0m \u001b[0mtimeToSource\u001b[0m\u001b[0;34m)\u001b[0m\u001b[0;34m\u001b[0m\u001b[0;34m\u001b[0m\u001b[0m\n\u001b[1;32m    109\u001b[0m \u001b[0;34m\u001b[0m\u001b[0m\n",
            "\u001b[0;31mIndexError\u001b[0m: only integers, slices (`:`), ellipsis (`...`), numpy.newaxis (`None`) and integer or boolean arrays are valid indices"
          ]
        }
      ]
    },
    {
      "cell_type": "code",
      "metadata": {
        "id": "hfNw_b0F8jWo"
      },
      "source": [
        "# save stuff as pickle\n",
        "def save_pickle(obj, name):\n",
        "    with open(name + '.pkl', 'wb') as f:\n",
        "        pickle.dump(obj, f, pickle.HIGHEST_PROTOCOL)\n",
        "\n",
        "# make directory\n",
        "if not os.path.exists(\"saved_pickle_files\"):\n",
        "    os.mkdir(\"saved_pickle_files\")"
      ],
      "execution_count": null,
      "outputs": []
    },
    {
      "cell_type": "code",
      "metadata": {
        "id": "fxFFaUhO8jWr"
      },
      "source": [
        "# save rewards_per_episode\n",
        "save_pickle(rewards_per_episode, \"saved_pickle_files/rewards_per_episode\")"
      ],
      "execution_count": null,
      "outputs": []
    },
    {
      "cell_type": "markdown",
      "metadata": {
        "id": "2AVVCuQ78jWt"
      },
      "source": [
        "### Tracking Convergence"
      ]
    },
    {
      "cell_type": "code",
      "metadata": {
        "id": "anY4OrFt8jWt"
      },
      "source": [
        "\n",
        "# plot results\n",
        "with open('saved_pickle_files/rewards_per_episode.pkl', 'rb') as f:\n",
        "    rewards_per_episode = pickle.load(f)\n",
        "\n",
        "plt.plot(list(range(len(rewards_per_episode))), rewards_per_episode)\n",
        "plt.xlabel(\"episode number\")\n",
        "plt.ylabel(\"reward per episode\")\n",
        "\n",
        "# save plots in saved_plots/ directory\n",
        "plt.savefig('rewards.png')\n",
        "\n",
        "print(\"Average reward of last 100 episodes is {0}\".format(np.mean(rewards_per_episode[-100:]))) "
      ],
      "execution_count": null,
      "outputs": []
    },
    {
      "cell_type": "code",
      "metadata": {
        "id": "uWpy4aAk8jWw"
      },
      "source": [
        ""
      ],
      "execution_count": null,
      "outputs": []
    },
    {
      "cell_type": "code",
      "metadata": {
        "id": "EFPzqSgF8jW0"
      },
      "source": [
        ""
      ],
      "execution_count": null,
      "outputs": []
    },
    {
      "cell_type": "markdown",
      "metadata": {
        "id": "sfDqenlK8jW3"
      },
      "source": [
        "#### Epsilon-decay sample function"
      ]
    },
    {
      "cell_type": "markdown",
      "metadata": {
        "id": "NwOnjxMl8jW3"
      },
      "source": [
        "<div class=\"alert alert-block alert-info\">\n",
        "Try building a similar epsilon-decay function for your model.\n",
        "</div>"
      ]
    },
    {
      "cell_type": "code",
      "metadata": {
        "id": "_CHtA_uC8jW4"
      },
      "source": [
        "time = np.arange(0,10000)\n",
        "epsilon = []\n",
        "for i in range(0,10000):\n",
        "    epsilon.append(0 + (1 - 0) * np.exp(-0.0009*i))"
      ],
      "execution_count": null,
      "outputs": []
    },
    {
      "cell_type": "code",
      "metadata": {
        "id": "s7zz76zz8jW6"
      },
      "source": [
        "plt.plot(time, epsilon)\n",
        "plt.show()"
      ],
      "execution_count": null,
      "outputs": []
    },
    {
      "cell_type": "code",
      "metadata": {
        "id": "62JuOwk18jW-"
      },
      "source": [
        ""
      ],
      "execution_count": null,
      "outputs": []
    }
  ]
}